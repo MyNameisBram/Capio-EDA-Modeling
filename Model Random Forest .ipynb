{
 "cells": [
  {
   "cell_type": "code",
   "execution_count": 1,
   "metadata": {},
   "outputs": [
    {
     "name": "stdout",
     "output_type": "stream",
     "text": [
      "Requirement already satisfied: pandas-profiling in /anaconda3/envs/learn-env/lib/python3.6/site-packages (1.4.2)\n",
      "Requirement already satisfied: jinja2>=2.8 in /anaconda3/envs/learn-env/lib/python3.6/site-packages (from pandas-profiling) (2.10)\n",
      "Requirement already satisfied: six>=1.9 in /anaconda3/envs/learn-env/lib/python3.6/site-packages (from pandas-profiling) (1.11.0)\n",
      "Requirement already satisfied: pandas>=0.19 in /anaconda3/envs/learn-env/lib/python3.6/site-packages (from pandas-profiling) (0.23.4)\n",
      "Requirement already satisfied: matplotlib>=1.4 in /anaconda3/envs/learn-env/lib/python3.6/site-packages (from pandas-profiling) (3.0.2)\n",
      "Requirement already satisfied: MarkupSafe>=0.23 in /anaconda3/envs/learn-env/lib/python3.6/site-packages (from jinja2>=2.8->pandas-profiling) (1.1.0)\n",
      "Requirement already satisfied: python-dateutil>=2.5.0 in /anaconda3/envs/learn-env/lib/python3.6/site-packages (from pandas>=0.19->pandas-profiling) (2.7.5)\n",
      "Requirement already satisfied: pytz>=2011k in /anaconda3/envs/learn-env/lib/python3.6/site-packages (from pandas>=0.19->pandas-profiling) (2018.5)\n",
      "Requirement already satisfied: numpy>=1.9.0 in /anaconda3/envs/learn-env/lib/python3.6/site-packages (from pandas>=0.19->pandas-profiling) (1.15.4)\n",
      "Requirement already satisfied: cycler>=0.10 in /anaconda3/envs/learn-env/lib/python3.6/site-packages (from matplotlib>=1.4->pandas-profiling) (0.10.0)\n",
      "Requirement already satisfied: kiwisolver>=1.0.1 in /anaconda3/envs/learn-env/lib/python3.6/site-packages (from matplotlib>=1.4->pandas-profiling) (1.0.1)\n",
      "Requirement already satisfied: pyparsing!=2.0.4,!=2.1.2,!=2.1.6,>=2.0.1 in /anaconda3/envs/learn-env/lib/python3.6/site-packages (from matplotlib>=1.4->pandas-profiling) (2.3.1)\n",
      "Requirement already satisfied: setuptools in /anaconda3/envs/learn-env/lib/python3.6/site-packages (from kiwisolver>=1.0.1->matplotlib>=1.4->pandas-profiling) (40.0.0)\n",
      "\u001b[31msmart-open 1.8.0 requires bz2file, which is not installed.\u001b[0m\n",
      "\u001b[31mnltk 3.4 requires singledispatch, which is not installed.\u001b[0m\n",
      "\u001b[33mYou are using pip version 10.0.1, however version 19.1.1 is available.\n",
      "You should consider upgrading via the 'pip install --upgrade pip' command.\u001b[0m\n"
     ]
    }
   ],
   "source": [
    "import pandas as pd \n",
    "import sys\n",
    "!{sys.executable} -m pip install pandas-profiling\n",
    "import pandas_profiling \n",
    "import numpy as np \n",
    "import matplotlib.pyplot as plt \n",
    "%matplotlib inline \n",
    "import warnings\n",
    "warnings.filterwarnings(\"ignore\")"
   ]
  },
  {
   "cell_type": "code",
   "execution_count": 2,
   "metadata": {},
   "outputs": [],
   "source": [
    "data = pd.read_csv('Data_June24.csv')"
   ]
  },
  {
   "cell_type": "code",
   "execution_count": 3,
   "metadata": {},
   "outputs": [],
   "source": [
    "paid = data[(data.Closure_Type == 'SETTLE') | (data.Closure_Type == 'PIF')]"
   ]
  },
  {
   "cell_type": "code",
   "execution_count": 4,
   "metadata": {},
   "outputs": [],
   "source": [
    "paid.dropna(inplace=True)"
   ]
  },
  {
   "cell_type": "code",
   "execution_count": 5,
   "metadata": {},
   "outputs": [],
   "source": [
    "#creating a subset of data \n",
    "df_prep = paid.sample(n=50000, random_state=7)\n",
    "#reseting index \n",
    "df_prep.reset_index(inplace=True)"
   ]
  },
  {
   "cell_type": "code",
   "execution_count": 6,
   "metadata": {},
   "outputs": [],
   "source": [
    "drop_columns = ['index','Unnamed: 0','Account_ID', 'Entity_ID','Closure_Type', \n",
    "                'Entity_City', 'Entity_State', 'Entity_Zip',\n",
    "                'Total_Paid', 'Number_of_payments',\n",
    "                'Percent_Paid', 'Target','Paid','Creditor_Name', \n",
    "                'age_20s', 'age_30s', 'age_40s', 'age_50s', 'age_60s',\n",
    "                'age_70s', 'age_over_80']"
   ]
  },
  {
   "cell_type": "code",
   "execution_count": 7,
   "metadata": {},
   "outputs": [],
   "source": [
    "#creating features to feed into predictors \n",
    "features = df_prep.drop(drop_columns, axis=1, inplace=False)\n",
    "#creating target variable (y)\n",
    "target = df_prep.Target \n",
    "#creating dummies, one-hot encode prior to standardizing \n",
    "predictors = pd.get_dummies(features)"
   ]
  },
  {
   "cell_type": "code",
   "execution_count": 8,
   "metadata": {},
   "outputs": [],
   "source": [
    "#scaling features \n",
    "from sklearn.preprocessing import StandardScaler\n",
    "\n",
    "scaler = StandardScaler()\n",
    "scaled_features = scaler.fit_transform(predictors)\n",
    "\n",
    "\n",
    "from sklearn.pipeline import Pipeline \n",
    "from sklearn.decomposition import PCA\n",
    "from sklearn.ensemble import RandomForestClassifier, AdaBoostClassifier, GradientBoostingClassifier\n",
    "from sklearn.linear_model import LogisticRegression\n",
    "from sklearn.metrics import f1_score, roc_auc_score, auc, accuracy_score, classification_report, roc_curve, precision_score,recall_score\n",
    "from sklearn.model_selection import cross_val_score, GridSearchCV, train_test_split\n",
    "from sklearn.svm import SVC\n",
    "from sklearn import svm \n",
    "import warnings\n",
    "warnings.filterwarnings(\"ignore\")"
   ]
  },
  {
   "cell_type": "code",
   "execution_count": 9,
   "metadata": {},
   "outputs": [],
   "source": [
    "X_train, X_test, y_train, y_test = train_test_split(scaled_features, target, random_state=10, test_size=0.3)\n"
   ]
  },
  {
   "cell_type": "code",
   "execution_count": 11,
   "metadata": {},
   "outputs": [],
   "source": [
    "rf = RandomForestClassifier()\n",
    "rf.fit(X_train, y_train);"
   ]
  },
  {
   "cell_type": "code",
   "execution_count": 12,
   "metadata": {},
   "outputs": [],
   "source": [
    "y_pred = rf.predict(X_test)"
   ]
  },
  {
   "cell_type": "code",
   "execution_count": null,
   "metadata": {},
   "outputs": [],
   "source": []
  },
  {
   "cell_type": "code",
   "execution_count": 25,
   "metadata": {},
   "outputs": [
    {
     "data": {
      "text/plain": [
       "Index(['Unnamed: 0', 'Account_ID', 'Entity_ID', 'Seller_Type', 'Creditor_Name',\n",
       "       'Closure_Type', 'Entity_City', 'Entity_State', 'Entity_Zip',\n",
       "       'Median_Household_Income', 'Total_Paid', 'Number_of_payments',\n",
       "       'Percent_Paid', 'Invoice_bal', 'Age', 'Target', 'Income_level',\n",
       "       'Age_MedIncome', 'Invbal_MedIncome', 'Invbal_Age', 'Paid',\n",
       "       'unemployment_rate', 'labor_force_participation',\n",
       "       'education_highschool', 'education_college_or_above', 'home_value',\n",
       "       'rent_burden', 'age_20s', 'age_30s', 'age_40s', 'age_50s', 'age_60s',\n",
       "       'age_70s', 'age_over_80', 'Age_range', 'Unemply_rate_range',\n",
       "       'Labor_force_part_range'],\n",
       "      dtype='object')"
      ]
     },
     "execution_count": 25,
     "metadata": {},
     "output_type": "execute_result"
    }
   ],
   "source": [
    "paid.columns"
   ]
  },
  {
   "cell_type": "code",
   "execution_count": null,
   "metadata": {},
   "outputs": [],
   "source": []
  },
  {
   "cell_type": "code",
   "execution_count": null,
   "metadata": {},
   "outputs": [],
   "source": []
  },
  {
   "cell_type": "code",
   "execution_count": null,
   "metadata": {},
   "outputs": [],
   "source": []
  }
 ],
 "metadata": {
  "kernelspec": {
   "display_name": "Python 3",
   "language": "python",
   "name": "python3"
  },
  "language_info": {
   "codemirror_mode": {
    "name": "ipython",
    "version": 3
   },
   "file_extension": ".py",
   "mimetype": "text/x-python",
   "name": "python",
   "nbconvert_exporter": "python",
   "pygments_lexer": "ipython3",
   "version": "3.6.6"
  },
  "toc": {
   "base_numbering": 1,
   "nav_menu": {},
   "number_sections": true,
   "sideBar": true,
   "skip_h1_title": false,
   "title_cell": "Table of Contents",
   "title_sidebar": "Contents",
   "toc_cell": false,
   "toc_position": {},
   "toc_section_display": true,
   "toc_window_display": false
  },
  "varInspector": {
   "cols": {
    "lenName": 16,
    "lenType": 16,
    "lenVar": 40
   },
   "kernels_config": {
    "python": {
     "delete_cmd_postfix": "",
     "delete_cmd_prefix": "del ",
     "library": "var_list.py",
     "varRefreshCmd": "print(var_dic_list())"
    },
    "r": {
     "delete_cmd_postfix": ") ",
     "delete_cmd_prefix": "rm(",
     "library": "var_list.r",
     "varRefreshCmd": "cat(var_dic_list()) "
    }
   },
   "types_to_exclude": [
    "module",
    "function",
    "builtin_function_or_method",
    "instance",
    "_Feature"
   ],
   "window_display": false
  }
 },
 "nbformat": 4,
 "nbformat_minor": 2
}
